{
  "nbformat": 4,
  "nbformat_minor": 0,
  "metadata": {
    "colab": {
      "name": "mini.ipynb",
      "provenance": [],
      "collapsed_sections": []
    },
    "kernelspec": {
      "name": "python3",
      "display_name": "Python 3.9.6 64-bit"
    },
    "language_info": {
      "name": "python",
      "version": "3.9.6",
      "mimetype": "text/x-python",
      "codemirror_mode": {
        "name": "ipython",
        "version": 3
      },
      "pygments_lexer": "ipython3",
      "nbconvert_exporter": "python",
      "file_extension": ".py"
    },
    "interpreter": {
      "hash": "9fe3a4d47c9285845cf1a46e71cf1145a5550d0332299a7e229cd664bb8ab9d8"
    }
  },
  "cells": [
    {
      "cell_type": "code",
      "metadata": {
        "id": "6t3pbbriH0vy"
      },
      "source": [
        "!pip install konlpy\n",
        "!pip install wordcloud\n",
        "!pip install collection\n",
        "!pip install matplotlib\n",
        "!apt-get install fonts-nanum*\n",
        "!apt-get install fontconfig\n",
        "!pip install WordCloud\n",
        "\n",
        "!pip install openpylx\n"
      ],
      "execution_count": null,
      "outputs": []
    },
    {
      "cell_type": "code",
      "metadata": {
        "id": "nuk8zMWE8Bh9"
      },
      "source": [
        "# 모듈 불러오기\n",
        "import matplotlib\n",
        "import pandas as pd\n",
        "from wordcloud import WordCloud\n",
        "import matplotlib.pyplot as plt\n",
        "from konlpy.tag import Okt\n",
        "import re\n",
        "from collections import Counter\n",
        "from matplotlib.pyplot import barh\n"
      ],
      "execution_count": null,
      "outputs": []
    },
    {
      "cell_type": "code",
      "metadata": {
        "id": "JSN1R3nf8Bh9"
      },
      "source": [
        "\n",
        "#unnamed 컬럼이름 'num'으로 바꿔주기\n",
        "#lunch.rename(columns = {'Unnamed: 0': 'num'}, inplace=True)\n",
        "def rename_Unnamed(dataFrame):\n",
        "    dataFrame.rename(columns = {'Unnamed: 0': 'num'}, inplace=True)\n"
      ],
      "execution_count": null,
      "outputs": []
    },
    {
      "cell_type": "code",
      "metadata": {
        "id": "g5Nsl1bo8Bh-"
      },
      "source": [
        "\n",
        "#필터링 하기\n",
        "def filltering(dataFrame, column_name, string):\n",
        "    mask = dataFrame[column_name].str.contains(string)\n",
        "    result = dataFrame[mask]\n",
        "    return result"
      ],
      "execution_count": null,
      "outputs": []
    },
    {
      "cell_type": "code",
      "metadata": {
        "id": "8HxzNXCJ8Bh-"
      },
      "source": [
        "\n",
        "#text 합치기 \n",
        "def make_all_text(dataFrame, columnName):\n",
        "    dataFrame.reset_index(drop=True, inplace=True)\n",
        "    result = \"\"\n",
        "\n",
        "    if dataFrame[columnName][0][0] == '[':\n",
        "        for i in dataFrame.index:\n",
        "            text = \" \".join(dataFrame[columnName][i][1:-1].replace(' ', '').replace('\\'', '').split(','))\n",
        "            result = result + \" \" + text\n",
        "\n",
        "    else:\n",
        "        for i in dataFrame.index:\n",
        "            text = \"\".join(dataFrame[columnName][i])\n",
        "            result = result + \" \" + text\n",
        "    return result"
      ],
      "execution_count": null,
      "outputs": []
    },
    {
      "cell_type": "code",
      "metadata": {
        "id": "BFz1hsXs8Bh-"
      },
      "source": [
        "\n",
        "#wordcloud 만들기\n",
        "#딕셔너리 or 텍스트 넣기\n",
        "def make_wordcloud(all_text):\n",
        "    wordcloud = WordCloud(\n",
        "        #font_path = 'C:\\\\Windows\\\\Fonts\\\\H2GTRE.TTF',\n",
        "        font_path = '/usr/share/fonts/truetype/nanum/NanumGothic.ttf',\n",
        "        width = 1600,\n",
        "        height = 900\n",
        "    )\n",
        "    \n",
        "    if type(all_text) == dict:\n",
        "      result = wordcloud.generate_from_frequencies(all_text)\n",
        "    else:\n",
        "      result = wordcloud.generate(all_text)\n",
        "    \n",
        "    plt.imshow(\n",
        "    result\n",
        "    #interpolation='bilinear'\n",
        "    )\n",
        "    plt.axis(\"off\")\n",
        "    plt.show()\n"
      ],
      "execution_count": null,
      "outputs": []
    },
    {
      "cell_type": "code",
      "metadata": {
        "id": "pgMY3SYW8Bh_"
      },
      "source": [
        "\n",
        "#좋아요 콤마 지우고 int로 바꿔주기\n",
        "#스트링으로 들어온 데이터를 int64로 바꿔준다.\n",
        "def make_like(dataFrame, columnName):\n",
        "    dataFrame[columnName] = dataFrame[columnName].str.replace(',', '')\n",
        "    dataFrame[columnName] = dataFrame[columnName].fillna(0).astype('int64')\n",
        "\n",
        "    return dataFrame\n"
      ],
      "execution_count": null,
      "outputs": []
    },
    {
      "cell_type": "code",
      "metadata": {
        "id": "W_Jxrh-W8Bh_"
      },
      "source": [
        "#여기서만 사용할 함수?\n",
        "#태그를 한 리스트로 반환\n",
        "def make_tags_list(tags_series):\n",
        "    result = []\n",
        "    for i in tags_series:\n",
        "        temp_list = i[2: -2].split(\"', '\")\n",
        "        result = result + temp_list\n",
        "    return result\n"
      ],
      "execution_count": null,
      "outputs": []
    },
    {
      "cell_type": "code",
      "metadata": {
        "id": "cY_xnX6j8Bh_"
      },
      "source": [
        "\n",
        "#tag_value_counts 상위 n개 태그의 빈도수 df 반환\n",
        "def value_counts_num(listOrSeries, num):\n",
        "    if type(listOrSeries) == list:\n",
        "      result = pd.DataFrame(Counter(listOrSeries).most_common(num))\n",
        "    else:\n",
        "      temp = make_tags_list(listOrSeries)\n",
        "      result = pd.DataFrame(Counter(temp).most_common(num))\n",
        "    return result"
      ],
      "execution_count": null,
      "outputs": []
    },
    {
      "cell_type": "code",
      "metadata": {
        "id": "WmNOu6lJ8BiA"
      },
      "source": [
        "    \n",
        "#plot 한글 설정\n",
        "def han_font_set():\n",
        "    from matplotlib import font_manager, rc\n",
        "    font_name = font_manager.FontProperties(fname='/usr/share/fonts/truetype/nanum/NanumBarunGothic.ttf').get_name()\n",
        "    matplotlib.rc('font', family = font_name)\n",
        "    matplotlib.font_manager._rebuild()"
      ],
      "execution_count": null,
      "outputs": []
    },
    {
      "cell_type": "code",
      "metadata": {
        "id": "KDPgn01s8BiA"
      },
      "source": [
        "\n",
        "#content 전처리\n",
        "def prepro_content(dataFrame):\n",
        "    dataFrame = dataFrame.fillna(\"nan\")\n",
        "    dataFrame.isnull().sum() # null 사라짐\n",
        "\n",
        "    def text_cleaner(text):\n",
        "        clean = text\n",
        "        publisher = \"\\((.*?)\\)\"\n",
        "        braces = \"\\[(.*?)\\]\"\n",
        "        braces2 = \"\\{(.*?)\\}\"\n",
        "        braces3 = \"\\【(.*?)\\】\"\n",
        "        weird = \"[=_\\.,;:~…\\\"\\\"\\'\\'◇%\\<\\>/·○★☆ㅡ]\"\n",
        "        tab = '\\\\t'\n",
        "        newline = '\\\\n'\n",
        "\n",
        "        clean = re.sub(publisher,'', clean)\n",
        "        clean = re.sub(braces,'', clean)\n",
        "        clean = re.sub(braces2,'', clean)\n",
        "        clean = re.sub(braces3,'', clean)\n",
        "        clean = re.sub('[YTN,OSEN]','', clean)\n",
        "        clean = re.sub(weird,'', clean)\n",
        "        clean = re.sub(tab,'', clean)\n",
        "        clean = re.sub(newline,'',clean)\n",
        "        \n",
        "        return clean\n",
        "\n",
        "    for idx, text in enumerate(dataFrame['content']):\n",
        "        dataFrame['content'][idx] = text_cleaner(text)\n"
      ],
      "execution_count": null,
      "outputs": []
    },
    {
      "cell_type": "code",
      "metadata": {
        "id": "MBlg8cYS8BiB"
      },
      "source": [
        "\n",
        "#나중에 학습시킬때 사용 \n",
        "def make_vocab(dataframe):\n",
        "    okt = Okt()\n",
        "\n",
        "    sentences_pos = []\n",
        "    for line in dataframe['content']:\n",
        "        sentences_pos.append(okt.nouns(line))\n",
        "\n",
        "    max_len = max([len(i) for i in sentences_pos])\n",
        "\n",
        "    vocab = []\n",
        "    for line in sentences_pos:\n",
        "        for word in line:\n",
        "            vocab.append(word)\n",
        "\n",
        "    vocab_size = len(vocab) +1\n",
        "    vocab = sorted(list(vocab))\n",
        "\n",
        "   \n",
        "    vocab = [item for item in vocab if len(item) != 1]\n",
        "\n",
        "    return sentences_pos, vocab\n"
      ],
      "execution_count": null,
      "outputs": []
    },
    {
      "cell_type": "code",
      "metadata": {
        "id": "FZ9uHLgh8BiB"
      },
      "source": [
        "\n",
        "#데이터 로드\n",
        "ato = pd.read_excel('atozzang.xlsx')\n",
        "bbo = pd.read_excel('bbo.xlsx')\n",
        "haewon = pd.read_excel('haewon.xlsx')\n",
        "twomuk = pd.read_excel('2muk.xlsx')\n",
        "muksta = pd.read_excel('muksta.xlsx')\n",
        "dfs = [ato, bbo, haewon, twomuk, muksta]"
      ],
      "execution_count": null,
      "outputs": []
    },
    {
      "cell_type": "code",
      "metadata": {
        "id": "iSmn4Fjy8BiB"
      },
      "source": [
        "#content 분석\n",
        "\n",
        "#content 전처리\n",
        "#1\n",
        "for i in dfs:\n",
        "  prepro_content(i)\n",
        "#2\n",
        "sentences_pos = []\n",
        "vocab = []\n",
        "for i in dfs:\n",
        "  tempS, tempV = make_vocab(i)\n",
        "  sentences_pos.append(tempS)\n",
        "  vocab.append(tempV)\n",
        "#3\n",
        "vocab_value_counts = []\n",
        "for i in vocab:\n",
        "  vocab_value_counts.append(value_counts_num(i, 15))\n",
        "\n"
      ],
      "execution_count": null,
      "outputs": []
    },
    {
      "cell_type": "code",
      "metadata": {
        "id": "Bn-jDBuT8BiC"
      },
      "source": [
        "\n",
        "#태그분석\n",
        "\n",
        "#태그 전처리\n",
        "#1\n",
        "for i in dfs:\n",
        "    rename_Unnamed(i)\n",
        "\n",
        "#태그수 보기\n",
        "tag_value_counts = []\n",
        "for i in dfs:\n",
        "    tag_value_counts.append(value_counts_num(i['tags'], 15))\n",
        "\n",
        "\n",
        "#워드크라우드 용 text파일\n",
        "text_list = []\n",
        "for i in dfs:\n",
        "    text_list.append(make_all_text(i, 'tags'))\n"
      ],
      "execution_count": null,
      "outputs": []
    },
    {
      "cell_type": "code",
      "metadata": {
        "id": "L1tTT7vx8BiC"
      },
      "source": [
        "\n",
        "#content 시각화\n",
        "#barplot\n",
        "han_font_set()\n",
        "\n",
        "fig = plt.figure(figsize = (20,20))\n",
        "fig.add_subplot(2, 3, 1)\n",
        "barh(vocab_value_counts[0][0], vocab_value_counts[0][1])\n",
        "fig.add_subplot(2, 3, 2)\n",
        "barh(vocab_value_counts[1][0], vocab_value_counts[1][1])\n",
        "fig.add_subplot(2,3,3)\n",
        "barh(vocab_value_counts[2][0], vocab_value_counts[2][1])\n",
        "fig.add_subplot(2,3,4)\n",
        "barh(vocab_value_counts[3][0], vocab_value_counts[3][1])\n",
        "fig.add_subplot(2,3,5)\n",
        "barh(vocab_value_counts[4][0], vocab_value_counts[4][1])\n",
        "plt.show()\n",
        "\n"
      ],
      "execution_count": null,
      "outputs": []
    },
    {
      "cell_type": "code",
      "metadata": {
        "id": "-KDZMjs48BiC"
      },
      "source": [
        "\n",
        "\n",
        "#tag 시각화\n",
        "#barplot\n",
        "\n",
        "fig = plt.figure(figsize = (20,20))\n",
        "fig.add_subplot(2, 3, 1)\n",
        "barh(tag_value_counts[0][0], tag_value_counts[0][1])\n",
        "fig.add_subplot(2, 3, 2)\n",
        "barh(tag_value_counts[1][0], tag_value_counts[1][1])\n",
        "fig.add_subplot(2,3,3)\n",
        "barh(tag_value_counts[2][0], tag_value_counts[2][1])\n",
        "fig.add_subplot(2,3,4)\n",
        "barh(tag_value_counts[3][0], tag_value_counts[3][1])\n",
        "fig.add_subplot(2,3,5)\n",
        "barh(tag_value_counts[4][0], tag_value_counts[4][1])\n",
        "plt.show()\n",
        "\n"
      ],
      "execution_count": null,
      "outputs": []
    },
    {
      "cell_type": "code",
      "metadata": {
        "id": "za4D5uRt8BiD"
      },
      "source": [
        "\n",
        "\n",
        "#시각화\n",
        "#word cloud\n",
        "\n",
        "for i in range(len(vocab_value_counts)):\n",
        "  temp = vocab_value_counts[i].set_index(0).to_dict()[1]\n",
        "  make_wordcloud(temp)\n",
        "\n",
        "#tag 시각화\n",
        "#word cloud\n",
        "\n",
        "for i in range(len(tag_value_counts)):\n",
        "  temp = tag_value_counts[i].set_index(0).to_dict()[1]\n",
        "  make_wordcloud(temp)\n"
      ],
      "execution_count": null,
      "outputs": []
    }
  ]
}